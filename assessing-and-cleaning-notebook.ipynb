{
 "cells": [
  {
   "cell_type": "markdown",
   "metadata": {},
   "source": [
    "## Import Requirements and Datasets"
   ]
  },
  {
   "cell_type": "code",
   "execution_count": 3,
   "metadata": {},
   "outputs": [],
   "source": [
    "# requirements\n",
    "import pandas as pd\n",
    "from pandas_profiling import ProfileReport"
   ]
  },
  {
   "cell_type": "code",
   "execution_count": 5,
   "metadata": {},
   "outputs": [
    {
     "data": {
      "text/html": [
       "<div>\n",
       "<style scoped>\n",
       "    .dataframe tbody tr th:only-of-type {\n",
       "        vertical-align: middle;\n",
       "    }\n",
       "\n",
       "    .dataframe tbody tr th {\n",
       "        vertical-align: top;\n",
       "    }\n",
       "\n",
       "    .dataframe thead th {\n",
       "        text-align: right;\n",
       "    }\n",
       "</style>\n",
       "<table border=\"1\" class=\"dataframe\">\n",
       "  <thead>\n",
       "    <tr style=\"text-align: right;\">\n",
       "      <th></th>\n",
       "      <th>Date</th>\n",
       "      <th>Selina</th>\n",
       "      <th>Sub Category</th>\n",
       "      <th>Capacity</th>\n",
       "      <th>Out of Order</th>\n",
       "      <th>Available Beds</th>\n",
       "      <th>Sold Beds</th>\n",
       "      <th>Room Revenue USD</th>\n",
       "      <th>Food and Beverage Revenue</th>\n",
       "      <th>Activities Revenue</th>\n",
       "      <th>Co-Working Revenue</th>\n",
       "      <th>Average Guest Review</th>\n",
       "    </tr>\n",
       "  </thead>\n",
       "  <tbody>\n",
       "    <tr>\n",
       "      <th>0</th>\n",
       "      <td>2017-12-01</td>\n",
       "      <td>San Jose</td>\n",
       "      <td>Dorm</td>\n",
       "      <td>86</td>\n",
       "      <td>1</td>\n",
       "      <td>85</td>\n",
       "      <td>65</td>\n",
       "      <td>1170.0</td>\n",
       "      <td>341.640</td>\n",
       "      <td>179.010</td>\n",
       "      <td>79.560</td>\n",
       "      <td>8.755</td>\n",
       "    </tr>\n",
       "    <tr>\n",
       "      <th>1</th>\n",
       "      <td>2017-12-01</td>\n",
       "      <td>Medellin</td>\n",
       "      <td>Dorm</td>\n",
       "      <td>215</td>\n",
       "      <td>25</td>\n",
       "      <td>190</td>\n",
       "      <td>91</td>\n",
       "      <td>1820.0</td>\n",
       "      <td>373.100</td>\n",
       "      <td>274.820</td>\n",
       "      <td>72.800</td>\n",
       "      <td>8.787</td>\n",
       "    </tr>\n",
       "    <tr>\n",
       "      <th>2</th>\n",
       "      <td>2017-12-01</td>\n",
       "      <td>Jaco</td>\n",
       "      <td>Dorm</td>\n",
       "      <td>118</td>\n",
       "      <td>2</td>\n",
       "      <td>116</td>\n",
       "      <td>55</td>\n",
       "      <td>880.0</td>\n",
       "      <td>289.520</td>\n",
       "      <td>100.320</td>\n",
       "      <td>23.760</td>\n",
       "      <td>8.780</td>\n",
       "    </tr>\n",
       "    <tr>\n",
       "      <th>3</th>\n",
       "      <td>2017-12-01</td>\n",
       "      <td>Bocas del Toro</td>\n",
       "      <td>Dorm</td>\n",
       "      <td>154</td>\n",
       "      <td>2</td>\n",
       "      <td>152</td>\n",
       "      <td>108</td>\n",
       "      <td>1728.0</td>\n",
       "      <td>618.624</td>\n",
       "      <td>390.528</td>\n",
       "      <td>164.160</td>\n",
       "      <td>8.689</td>\n",
       "    </tr>\n",
       "    <tr>\n",
       "      <th>4</th>\n",
       "      <td>2017-12-01</td>\n",
       "      <td>Red Frog</td>\n",
       "      <td>Dorm</td>\n",
       "      <td>24</td>\n",
       "      <td>1</td>\n",
       "      <td>23</td>\n",
       "      <td>17</td>\n",
       "      <td>255.0</td>\n",
       "      <td>91.545</td>\n",
       "      <td>44.880</td>\n",
       "      <td>20.655</td>\n",
       "      <td>8.754</td>\n",
       "    </tr>\n",
       "  </tbody>\n",
       "</table>\n",
       "</div>"
      ],
      "text/plain": [
       "         Date          Selina Sub Category  Capacity  Out of Order  \\\n",
       "0  2017-12-01        San Jose         Dorm        86             1   \n",
       "1  2017-12-01        Medellin         Dorm       215            25   \n",
       "2  2017-12-01            Jaco         Dorm       118             2   \n",
       "3  2017-12-01  Bocas del Toro         Dorm       154             2   \n",
       "4  2017-12-01        Red Frog         Dorm        24             1   \n",
       "\n",
       "   Available Beds  Sold Beds  Room Revenue USD  Food and Beverage Revenue  \\\n",
       "0              85         65            1170.0                    341.640   \n",
       "1             190         91            1820.0                    373.100   \n",
       "2             116         55             880.0                    289.520   \n",
       "3             152        108            1728.0                    618.624   \n",
       "4              23         17             255.0                     91.545   \n",
       "\n",
       "   Activities Revenue  Co-Working Revenue  Average Guest Review  \n",
       "0             179.010              79.560                 8.755  \n",
       "1             274.820              72.800                 8.787  \n",
       "2             100.320              23.760                 8.780  \n",
       "3             390.528             164.160                 8.689  \n",
       "4              44.880              20.655                 8.754  "
      ]
     },
     "execution_count": 5,
     "metadata": {},
     "output_type": "execute_result"
    }
   ],
   "source": [
    "# dataset 1\n",
    "df_data = pd.read_csv('original_datasets/data.csv')\n",
    "df_data.head()"
   ]
  },
  {
   "cell_type": "code",
   "execution_count": 7,
   "metadata": {},
   "outputs": [
    {
     "data": {
      "text/html": [
       "<div>\n",
       "<style scoped>\n",
       "    .dataframe tbody tr th:only-of-type {\n",
       "        vertical-align: middle;\n",
       "    }\n",
       "\n",
       "    .dataframe tbody tr th {\n",
       "        vertical-align: top;\n",
       "    }\n",
       "\n",
       "    .dataframe thead th {\n",
       "        text-align: right;\n",
       "    }\n",
       "</style>\n",
       "<table border=\"1\" class=\"dataframe\">\n",
       "  <thead>\n",
       "    <tr style=\"text-align: right;\">\n",
       "      <th></th>\n",
       "      <th>Selina</th>\n",
       "      <th>Selina Country</th>\n",
       "      <th>Selina Opening Date</th>\n",
       "    </tr>\n",
       "  </thead>\n",
       "  <tbody>\n",
       "    <tr>\n",
       "      <th>0</th>\n",
       "      <td>Venao</td>\n",
       "      <td>Panama</td>\n",
       "      <td>2014-08-01</td>\n",
       "    </tr>\n",
       "    <tr>\n",
       "      <th>1</th>\n",
       "      <td>Bocas del Toro</td>\n",
       "      <td>Panama</td>\n",
       "      <td>2014-12-01</td>\n",
       "    </tr>\n",
       "    <tr>\n",
       "      <th>2</th>\n",
       "      <td>Pedasi</td>\n",
       "      <td>Panama</td>\n",
       "      <td>2016-03-01</td>\n",
       "    </tr>\n",
       "    <tr>\n",
       "      <th>3</th>\n",
       "      <td>San Jose</td>\n",
       "      <td>Costa Rica</td>\n",
       "      <td>2016-11-01</td>\n",
       "    </tr>\n",
       "    <tr>\n",
       "      <th>4</th>\n",
       "      <td>Red Frog</td>\n",
       "      <td>Panama</td>\n",
       "      <td>2016-11-01</td>\n",
       "    </tr>\n",
       "  </tbody>\n",
       "</table>\n",
       "</div>"
      ],
      "text/plain": [
       "           Selina Selina Country Selina Opening Date\n",
       "0           Venao         Panama          2014-08-01\n",
       "1  Bocas del Toro         Panama          2014-12-01\n",
       "2          Pedasi         Panama          2016-03-01\n",
       "3        San Jose     Costa Rica          2016-11-01\n",
       "4        Red Frog         Panama          2016-11-01"
      ]
     },
     "execution_count": 7,
     "metadata": {},
     "output_type": "execute_result"
    }
   ],
   "source": [
    "# dataset 2\n",
    "df_op_dates = pd.read_csv('original_datasets/opening_dates.csv')\n",
    "df_op_dates.head()"
   ]
  },
  {
   "cell_type": "markdown",
   "metadata": {},
   "source": [
    "## Assessing"
   ]
  },
  {
   "cell_type": "markdown",
   "metadata": {},
   "source": [
    "### Visual Assessment:\n",
    "\n",
    "- Contains Selinas that opened outside of Q4 2017-2018 date range (ref. opening dates):\n",
    "    - Are all Selina's listed considered \"newly opened\" and we're simply analyzing their 2018 performance?\n",
    "    - Or do we remove all Selinas that opened prior to the data collection period?\n",
    "- Missing columns:\n",
    "    - Total revenue\n",
    "    - Selina's KPIs\n",
    "- Some Selina's are missing chunks of data for certain bed types and some are missing individual rows of data for certain bed types:\n",
    "    - Does this mean Selina didn't have this bed type available?\n",
    "    - Or maybe this bed type wasn't booked for that day?\n",
    "- Column names not in snake_case"
   ]
  },
  {
   "cell_type": "markdown",
   "metadata": {},
   "source": [
    "### Programmatic Assessment"
   ]
  },
  {
   "cell_type": "code",
   "execution_count": 10,
   "metadata": {},
   "outputs": [],
   "source": [
    "# df_data.info()"
   ]
  },
  {
   "cell_type": "code",
   "execution_count": null,
   "metadata": {},
   "outputs": [],
   "source": []
  }
 ],
 "metadata": {
  "kernelspec": {
   "display_name": "Python 3",
   "language": "python",
   "name": "python3"
  },
  "language_info": {
   "codemirror_mode": {
    "name": "ipython",
    "version": 3
   },
   "file_extension": ".py",
   "mimetype": "text/x-python",
   "name": "python",
   "nbconvert_exporter": "python",
   "pygments_lexer": "ipython3",
   "version": "3.7.1"
  }
 },
 "nbformat": 4,
 "nbformat_minor": 2
}
