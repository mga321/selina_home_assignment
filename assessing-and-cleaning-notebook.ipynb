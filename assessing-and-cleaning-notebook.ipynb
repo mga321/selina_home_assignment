{
 "cells": [
  {
   "cell_type": "markdown",
   "metadata": {},
   "source": [
    "## Import Requirements and Datasets"
   ]
  },
  {
   "cell_type": "code",
   "execution_count": 1,
   "metadata": {},
   "outputs": [],
   "source": [
    "# requirements\n",
    "import numpy as np\n",
    "import pandas as pd"
   ]
  },
  {
   "cell_type": "code",
   "execution_count": 2,
   "metadata": {},
   "outputs": [
    {
     "data": {
      "text/html": [
       "<div>\n",
       "<style scoped>\n",
       "    .dataframe tbody tr th:only-of-type {\n",
       "        vertical-align: middle;\n",
       "    }\n",
       "\n",
       "    .dataframe tbody tr th {\n",
       "        vertical-align: top;\n",
       "    }\n",
       "\n",
       "    .dataframe thead th {\n",
       "        text-align: right;\n",
       "    }\n",
       "</style>\n",
       "<table border=\"1\" class=\"dataframe\">\n",
       "  <thead>\n",
       "    <tr style=\"text-align: right;\">\n",
       "      <th></th>\n",
       "      <th>Date</th>\n",
       "      <th>Selina</th>\n",
       "      <th>Sub Category</th>\n",
       "      <th>Capacity</th>\n",
       "      <th>Out of Order</th>\n",
       "      <th>Available Beds</th>\n",
       "      <th>Sold Beds</th>\n",
       "      <th>Room Revenue USD</th>\n",
       "      <th>Food and Beverage Revenue</th>\n",
       "      <th>Activities Revenue</th>\n",
       "      <th>Co-Working Revenue</th>\n",
       "      <th>Average Guest Review</th>\n",
       "    </tr>\n",
       "  </thead>\n",
       "  <tbody>\n",
       "    <tr>\n",
       "      <th>0</th>\n",
       "      <td>2017-12-01</td>\n",
       "      <td>San Jose</td>\n",
       "      <td>Dorm</td>\n",
       "      <td>86</td>\n",
       "      <td>1</td>\n",
       "      <td>85</td>\n",
       "      <td>65</td>\n",
       "      <td>1170.0</td>\n",
       "      <td>341.640</td>\n",
       "      <td>179.010</td>\n",
       "      <td>79.560</td>\n",
       "      <td>8.755</td>\n",
       "    </tr>\n",
       "    <tr>\n",
       "      <th>1</th>\n",
       "      <td>2017-12-01</td>\n",
       "      <td>Medellin</td>\n",
       "      <td>Dorm</td>\n",
       "      <td>215</td>\n",
       "      <td>25</td>\n",
       "      <td>190</td>\n",
       "      <td>91</td>\n",
       "      <td>1820.0</td>\n",
       "      <td>373.100</td>\n",
       "      <td>274.820</td>\n",
       "      <td>72.800</td>\n",
       "      <td>8.787</td>\n",
       "    </tr>\n",
       "    <tr>\n",
       "      <th>2</th>\n",
       "      <td>2017-12-01</td>\n",
       "      <td>Jaco</td>\n",
       "      <td>Dorm</td>\n",
       "      <td>118</td>\n",
       "      <td>2</td>\n",
       "      <td>116</td>\n",
       "      <td>55</td>\n",
       "      <td>880.0</td>\n",
       "      <td>289.520</td>\n",
       "      <td>100.320</td>\n",
       "      <td>23.760</td>\n",
       "      <td>8.780</td>\n",
       "    </tr>\n",
       "    <tr>\n",
       "      <th>3</th>\n",
       "      <td>2017-12-01</td>\n",
       "      <td>Bocas del Toro</td>\n",
       "      <td>Dorm</td>\n",
       "      <td>154</td>\n",
       "      <td>2</td>\n",
       "      <td>152</td>\n",
       "      <td>108</td>\n",
       "      <td>1728.0</td>\n",
       "      <td>618.624</td>\n",
       "      <td>390.528</td>\n",
       "      <td>164.160</td>\n",
       "      <td>8.689</td>\n",
       "    </tr>\n",
       "    <tr>\n",
       "      <th>4</th>\n",
       "      <td>2017-12-01</td>\n",
       "      <td>Red Frog</td>\n",
       "      <td>Dorm</td>\n",
       "      <td>24</td>\n",
       "      <td>1</td>\n",
       "      <td>23</td>\n",
       "      <td>17</td>\n",
       "      <td>255.0</td>\n",
       "      <td>91.545</td>\n",
       "      <td>44.880</td>\n",
       "      <td>20.655</td>\n",
       "      <td>8.754</td>\n",
       "    </tr>\n",
       "  </tbody>\n",
       "</table>\n",
       "</div>"
      ],
      "text/plain": [
       "         Date          Selina Sub Category  Capacity  Out of Order  \\\n",
       "0  2017-12-01        San Jose         Dorm        86             1   \n",
       "1  2017-12-01        Medellin         Dorm       215            25   \n",
       "2  2017-12-01            Jaco         Dorm       118             2   \n",
       "3  2017-12-01  Bocas del Toro         Dorm       154             2   \n",
       "4  2017-12-01        Red Frog         Dorm        24             1   \n",
       "\n",
       "   Available Beds  Sold Beds  Room Revenue USD  Food and Beverage Revenue  \\\n",
       "0              85         65            1170.0                    341.640   \n",
       "1             190         91            1820.0                    373.100   \n",
       "2             116         55             880.0                    289.520   \n",
       "3             152        108            1728.0                    618.624   \n",
       "4              23         17             255.0                     91.545   \n",
       "\n",
       "   Activities Revenue  Co-Working Revenue  Average Guest Review  \n",
       "0             179.010              79.560                 8.755  \n",
       "1             274.820              72.800                 8.787  \n",
       "2             100.320              23.760                 8.780  \n",
       "3             390.528             164.160                 8.689  \n",
       "4              44.880              20.655                 8.754  "
      ]
     },
     "execution_count": 2,
     "metadata": {},
     "output_type": "execute_result"
    }
   ],
   "source": [
    "# dataset 1\n",
    "df_data = pd.read_csv('original_datasets/data.csv')\n",
    "df_data.head()"
   ]
  },
  {
   "cell_type": "code",
   "execution_count": 3,
   "metadata": {},
   "outputs": [
    {
     "data": {
      "text/html": [
       "<div>\n",
       "<style scoped>\n",
       "    .dataframe tbody tr th:only-of-type {\n",
       "        vertical-align: middle;\n",
       "    }\n",
       "\n",
       "    .dataframe tbody tr th {\n",
       "        vertical-align: top;\n",
       "    }\n",
       "\n",
       "    .dataframe thead th {\n",
       "        text-align: right;\n",
       "    }\n",
       "</style>\n",
       "<table border=\"1\" class=\"dataframe\">\n",
       "  <thead>\n",
       "    <tr style=\"text-align: right;\">\n",
       "      <th></th>\n",
       "      <th>Selina</th>\n",
       "      <th>Selina Country</th>\n",
       "      <th>Selina Opening Date</th>\n",
       "    </tr>\n",
       "  </thead>\n",
       "  <tbody>\n",
       "    <tr>\n",
       "      <th>0</th>\n",
       "      <td>Venao</td>\n",
       "      <td>Panama</td>\n",
       "      <td>2014-08-01</td>\n",
       "    </tr>\n",
       "    <tr>\n",
       "      <th>1</th>\n",
       "      <td>Bocas del Toro</td>\n",
       "      <td>Panama</td>\n",
       "      <td>2014-12-01</td>\n",
       "    </tr>\n",
       "    <tr>\n",
       "      <th>2</th>\n",
       "      <td>Pedasi</td>\n",
       "      <td>Panama</td>\n",
       "      <td>2016-03-01</td>\n",
       "    </tr>\n",
       "    <tr>\n",
       "      <th>3</th>\n",
       "      <td>San Jose</td>\n",
       "      <td>Costa Rica</td>\n",
       "      <td>2016-11-01</td>\n",
       "    </tr>\n",
       "    <tr>\n",
       "      <th>4</th>\n",
       "      <td>Red Frog</td>\n",
       "      <td>Panama</td>\n",
       "      <td>2016-11-01</td>\n",
       "    </tr>\n",
       "  </tbody>\n",
       "</table>\n",
       "</div>"
      ],
      "text/plain": [
       "           Selina Selina Country Selina Opening Date\n",
       "0           Venao         Panama          2014-08-01\n",
       "1  Bocas del Toro         Panama          2014-12-01\n",
       "2          Pedasi         Panama          2016-03-01\n",
       "3        San Jose     Costa Rica          2016-11-01\n",
       "4        Red Frog         Panama          2016-11-01"
      ]
     },
     "execution_count": 3,
     "metadata": {},
     "output_type": "execute_result"
    }
   ],
   "source": [
    "# dataset 2\n",
    "df_op_dates = pd.read_csv('original_datasets/opening_dates.csv')\n",
    "df_op_dates.head()"
   ]
  },
  {
   "cell_type": "markdown",
   "metadata": {},
   "source": [
    "## Assessing"
   ]
  },
  {
   "cell_type": "markdown",
   "metadata": {},
   "source": [
    "### Visual Assessment\n",
    "\n",
    "#### List of Visual Assessments:\n",
    "\n",
    "- Contains Selinas that opened outside of Q4 2017-2018 date range (ref. opening dates):\n",
    "    - Are all Selina's listed considered \"newly opened\" and we're simply analyzing their 2018 performance?\n",
    "    - Or do we remove all Selinas that opened prior to the data collection period?\n",
    "- Missing columns:\n",
    "    - Total revenue\n",
    "    - Selina's KPIs\n",
    "- Some Selina's are missing chunks of data for certain bed types and some are missing individual rows of data for certain bed types:\n",
    "    - Does this mean Selina didn't have this bed type available?\n",
    "    - Or maybe this bed type wasn't booked for that day?\n",
    "- Column names not in snake_case\n",
    "- Missing categorical columns that could potentially add value\n",
    "    - Country\n",
    "    - Month of year each Selina opened"
   ]
  },
  {
   "cell_type": "markdown",
   "metadata": {},
   "source": [
    "### Programmatic Assessment"
   ]
  },
  {
   "cell_type": "code",
   "execution_count": 4,
   "metadata": {},
   "outputs": [
    {
     "name": "stdout",
     "output_type": "stream",
     "text": [
      "<class 'pandas.core.frame.DataFrame'>\n",
      "RangeIndex: 19077 entries, 0 to 19076\n",
      "Data columns (total 12 columns):\n",
      "Date                         19077 non-null object\n",
      "Selina                       19077 non-null object\n",
      "Sub Category                 19077 non-null object\n",
      "Capacity                     19077 non-null int64\n",
      "Out of Order                 19077 non-null int64\n",
      "Available Beds               19077 non-null int64\n",
      "Sold Beds                    19077 non-null int64\n",
      "Room Revenue USD             19077 non-null float64\n",
      "Food and Beverage Revenue    19077 non-null float64\n",
      "Activities Revenue           19077 non-null float64\n",
      "Co-Working Revenue           19077 non-null float64\n",
      "Average Guest Review         19077 non-null float64\n",
      "dtypes: float64(5), int64(4), object(3)\n",
      "memory usage: 1.7+ MB\n"
     ]
    }
   ],
   "source": [
    "df_data.info()"
   ]
  },
  {
   "cell_type": "code",
   "execution_count": 5,
   "metadata": {},
   "outputs": [
    {
     "data": {
      "text/plain": [
       "0"
      ]
     },
     "execution_count": 5,
     "metadata": {},
     "output_type": "execute_result"
    }
   ],
   "source": [
    "df_data.duplicated().sum()"
   ]
  },
  {
   "cell_type": "code",
   "execution_count": 6,
   "metadata": {
    "scrolled": true
   },
   "outputs": [
    {
     "data": {
      "text/html": [
       "<div>\n",
       "<style scoped>\n",
       "    .dataframe tbody tr th:only-of-type {\n",
       "        vertical-align: middle;\n",
       "    }\n",
       "\n",
       "    .dataframe tbody tr th {\n",
       "        vertical-align: top;\n",
       "    }\n",
       "\n",
       "    .dataframe thead th {\n",
       "        text-align: right;\n",
       "    }\n",
       "</style>\n",
       "<table border=\"1\" class=\"dataframe\">\n",
       "  <thead>\n",
       "    <tr style=\"text-align: right;\">\n",
       "      <th></th>\n",
       "      <th>Capacity</th>\n",
       "      <th>Out of Order</th>\n",
       "      <th>Available Beds</th>\n",
       "      <th>Sold Beds</th>\n",
       "      <th>Room Revenue USD</th>\n",
       "      <th>Food and Beverage Revenue</th>\n",
       "      <th>Activities Revenue</th>\n",
       "      <th>Co-Working Revenue</th>\n",
       "      <th>Average Guest Review</th>\n",
       "    </tr>\n",
       "  </thead>\n",
       "  <tbody>\n",
       "    <tr>\n",
       "      <th>count</th>\n",
       "      <td>19077.000000</td>\n",
       "      <td>19077.000000</td>\n",
       "      <td>19077.000000</td>\n",
       "      <td>19077.000000</td>\n",
       "      <td>19077.000000</td>\n",
       "      <td>19077.000000</td>\n",
       "      <td>19077.000000</td>\n",
       "      <td>19077.000000</td>\n",
       "      <td>19077.000000</td>\n",
       "    </tr>\n",
       "    <tr>\n",
       "      <th>mean</th>\n",
       "      <td>64.614195</td>\n",
       "      <td>4.362426</td>\n",
       "      <td>60.251769</td>\n",
       "      <td>31.359228</td>\n",
       "      <td>629.480657</td>\n",
       "      <td>151.040265</td>\n",
       "      <td>92.938102</td>\n",
       "      <td>32.068546</td>\n",
       "      <td>8.778343</td>\n",
       "    </tr>\n",
       "    <tr>\n",
       "      <th>std</th>\n",
       "      <td>53.954401</td>\n",
       "      <td>5.809417</td>\n",
       "      <td>49.804572</td>\n",
       "      <td>25.606965</td>\n",
       "      <td>411.518606</td>\n",
       "      <td>134.996453</td>\n",
       "      <td>74.167449</td>\n",
       "      <td>29.188877</td>\n",
       "      <td>0.091046</td>\n",
       "    </tr>\n",
       "    <tr>\n",
       "      <th>min</th>\n",
       "      <td>6.000000</td>\n",
       "      <td>0.000000</td>\n",
       "      <td>5.000000</td>\n",
       "      <td>2.000000</td>\n",
       "      <td>36.000000</td>\n",
       "      <td>0.000000</td>\n",
       "      <td>0.000000</td>\n",
       "      <td>0.000000</td>\n",
       "      <td>8.685000</td>\n",
       "    </tr>\n",
       "    <tr>\n",
       "      <th>25%</th>\n",
       "      <td>24.000000</td>\n",
       "      <td>1.000000</td>\n",
       "      <td>23.000000</td>\n",
       "      <td>13.000000</td>\n",
       "      <td>324.000000</td>\n",
       "      <td>57.214350</td>\n",
       "      <td>42.882840</td>\n",
       "      <td>13.547520</td>\n",
       "      <td>8.717000</td>\n",
       "    </tr>\n",
       "    <tr>\n",
       "      <th>50%</th>\n",
       "      <td>40.000000</td>\n",
       "      <td>1.000000</td>\n",
       "      <td>39.000000</td>\n",
       "      <td>22.000000</td>\n",
       "      <td>540.000000</td>\n",
       "      <td>120.669120</td>\n",
       "      <td>72.421020</td>\n",
       "      <td>23.332608</td>\n",
       "      <td>8.753000</td>\n",
       "    </tr>\n",
       "    <tr>\n",
       "      <th>75%</th>\n",
       "      <td>96.000000</td>\n",
       "      <td>5.000000</td>\n",
       "      <td>86.000000</td>\n",
       "      <td>41.000000</td>\n",
       "      <td>820.800000</td>\n",
       "      <td>207.820800</td>\n",
       "      <td>122.068800</td>\n",
       "      <td>41.164200</td>\n",
       "      <td>8.785000</td>\n",
       "    </tr>\n",
       "    <tr>\n",
       "      <th>max</th>\n",
       "      <td>254.000000</td>\n",
       "      <td>43.000000</td>\n",
       "      <td>233.000000</td>\n",
       "      <td>126.000000</td>\n",
       "      <td>2541.000000</td>\n",
       "      <td>900.191250</td>\n",
       "      <td>541.479920</td>\n",
       "      <td>277.397500</td>\n",
       "      <td>9.010000</td>\n",
       "    </tr>\n",
       "  </tbody>\n",
       "</table>\n",
       "</div>"
      ],
      "text/plain": [
       "           Capacity  Out of Order  Available Beds     Sold Beds  \\\n",
       "count  19077.000000  19077.000000    19077.000000  19077.000000   \n",
       "mean      64.614195      4.362426       60.251769     31.359228   \n",
       "std       53.954401      5.809417       49.804572     25.606965   \n",
       "min        6.000000      0.000000        5.000000      2.000000   \n",
       "25%       24.000000      1.000000       23.000000     13.000000   \n",
       "50%       40.000000      1.000000       39.000000     22.000000   \n",
       "75%       96.000000      5.000000       86.000000     41.000000   \n",
       "max      254.000000     43.000000      233.000000    126.000000   \n",
       "\n",
       "       Room Revenue USD  Food and Beverage Revenue  Activities Revenue  \\\n",
       "count      19077.000000               19077.000000        19077.000000   \n",
       "mean         629.480657                 151.040265           92.938102   \n",
       "std          411.518606                 134.996453           74.167449   \n",
       "min           36.000000                   0.000000            0.000000   \n",
       "25%          324.000000                  57.214350           42.882840   \n",
       "50%          540.000000                 120.669120           72.421020   \n",
       "75%          820.800000                 207.820800          122.068800   \n",
       "max         2541.000000                 900.191250          541.479920   \n",
       "\n",
       "       Co-Working Revenue  Average Guest Review  \n",
       "count        19077.000000          19077.000000  \n",
       "mean            32.068546              8.778343  \n",
       "std             29.188877              0.091046  \n",
       "min              0.000000              8.685000  \n",
       "25%             13.547520              8.717000  \n",
       "50%             23.332608              8.753000  \n",
       "75%             41.164200              8.785000  \n",
       "max            277.397500              9.010000  "
      ]
     },
     "execution_count": 6,
     "metadata": {},
     "output_type": "execute_result"
    }
   ],
   "source": [
    "df_data.describe()"
   ]
  },
  {
   "cell_type": "code",
   "execution_count": 7,
   "metadata": {},
   "outputs": [
    {
     "name": "stdout",
     "output_type": "stream",
     "text": [
      "23\n",
      "23\n"
     ]
    }
   ],
   "source": [
    "# check if all df_data Selinas are in df_op_dates DataFrame, or if any Selinas need to be removed from df_data\n",
    "print(len(df_data.Selina.unique()))\n",
    "\n",
    "count = 0\n",
    "\n",
    "for selina in df_data.Selina.unique():\n",
    "    if selina in df_op_dates.Selina.unique():\n",
    "        count += 1\n",
    "    else:\n",
    "        count += 0\n",
    "\n",
    "print(count)"
   ]
  },
  {
   "cell_type": "markdown",
   "metadata": {},
   "source": [
    "#### List of Programmatic Assessments:\n",
    "- No NaNs\n",
    "    - If we add rows for the missing data recognized in the visual assessment, we will create NaNs that need to be filled accordingly\n",
    "- Date column wrong dtype\n",
    "- No duplicates"
   ]
  },
  {
   "cell_type": "markdown",
   "metadata": {},
   "source": [
    "## Cleaning"
   ]
  },
  {
   "cell_type": "markdown",
   "metadata": {},
   "source": [
    "### List of Cleaning Issues:\n",
    "\n",
    "#### df_data:\n",
    "1. Convert column names to snake_case.\n",
    "2. Convert date column to datetime dtype.\n",
    "3. Create new columns for total_revenue and the missing KPIs of occupancy_rate and trevpob.\n",
    "4. Create new categorical columns for country and month_of_opening (month of the year that the Selina opened).\n",
    "5. Create new rows for the missing data for each room type at each Selina by separating into separate DataFrames by Selina.\n",
    "6. Fill in NaNs from newly added rows in each separate DataFrame.\n",
    "7. Merge the separate DataFrames back into a master dataset now that all rows have been added and NaNs filled.\n",
    "\n",
    "#### df_op_dates:\n",
    "1. \n",
    "2. "
   ]
  },
  {
   "cell_type": "markdown",
   "metadata": {},
   "source": [
    "### Issue 1:\n",
    "\n",
    "#### Define:\n",
    "Convert column names to snake_case using .replace() in order to make Python functions and methods more efficient.\n",
    "\n",
    "#### Code:"
   ]
  },
  {
   "cell_type": "code",
   "execution_count": 8,
   "metadata": {},
   "outputs": [],
   "source": [
    "# both DataFrames\n",
    "dfs = [df_data, df_op_dates]\n",
    "\n",
    "for df in dfs:\n",
    "    df.columns = df.columns.str.lower().str.replace(\" \",\"_\").str.replace(\"-\",\"_\")"
   ]
  },
  {
   "cell_type": "markdown",
   "metadata": {},
   "source": [
    "#### Test:"
   ]
  },
  {
   "cell_type": "code",
   "execution_count": 9,
   "metadata": {
    "scrolled": true
   },
   "outputs": [
    {
     "data": {
      "text/plain": [
       "Index(['date', 'selina', 'sub_category', 'capacity', 'out_of_order',\n",
       "       'available_beds', 'sold_beds', 'room_revenue_usd',\n",
       "       'food_and_beverage_revenue', 'activities_revenue', 'co_working_revenue',\n",
       "       'average_guest_review'],\n",
       "      dtype='object')"
      ]
     },
     "execution_count": 9,
     "metadata": {},
     "output_type": "execute_result"
    }
   ],
   "source": [
    "df_data.columns"
   ]
  },
  {
   "cell_type": "code",
   "execution_count": 10,
   "metadata": {},
   "outputs": [
    {
     "data": {
      "text/plain": [
       "Index(['selina', 'selina_country', 'selina_opening_date'], dtype='object')"
      ]
     },
     "execution_count": 10,
     "metadata": {},
     "output_type": "execute_result"
    }
   ],
   "source": [
    "df_op_dates.columns"
   ]
  },
  {
   "cell_type": "markdown",
   "metadata": {},
   "source": [
    "### Issue 2:\n",
    "\n",
    "#### Define:\n",
    "Convert date column to datetime dtype.\n",
    "\n",
    "#### Code:"
   ]
  },
  {
   "cell_type": "code",
   "execution_count": 11,
   "metadata": {},
   "outputs": [],
   "source": [
    "# both dfs\n",
    "df_data['date'] = pd.to_datetime(df_data['date'])\n",
    "df_op_dates['selina_opening_date'] = pd.to_datetime(df_op_dates['selina_opening_date'])"
   ]
  },
  {
   "cell_type": "markdown",
   "metadata": {},
   "source": [
    "#### Test:"
   ]
  },
  {
   "cell_type": "code",
   "execution_count": 12,
   "metadata": {},
   "outputs": [
    {
     "data": {
      "text/plain": [
       "dtype('<M8[ns]')"
      ]
     },
     "execution_count": 12,
     "metadata": {},
     "output_type": "execute_result"
    }
   ],
   "source": [
    "df_data.date.dtypes"
   ]
  },
  {
   "cell_type": "code",
   "execution_count": 13,
   "metadata": {},
   "outputs": [
    {
     "data": {
      "text/plain": [
       "dtype('<M8[ns]')"
      ]
     },
     "execution_count": 13,
     "metadata": {},
     "output_type": "execute_result"
    }
   ],
   "source": [
    "df_op_dates.selina_opening_date.dtypes"
   ]
  },
  {
   "cell_type": "markdown",
   "metadata": {},
   "source": [
    "### Issue 3:\n",
    "\n",
    "#### Define:\n",
    "Create new columns for total_revenue, occupancy_rate, and trevpob.\n",
    "\n",
    "#### Code:"
   ]
  },
  {
   "cell_type": "code",
   "execution_count": 14,
   "metadata": {},
   "outputs": [],
   "source": [
    "# total_revenue\n",
    "df_data['total_revenue'] = df_data.apply(lambda x: x.room_revenue_usd + x.food_and_beverage_revenue + x.activities_revenue + x.co_working_revenue, axis=1)\n",
    "\n",
    "# trevpob\n",
    "df_data['trevpob'] = df_data.total_revenue / df_data.sold_beds\n",
    "\n",
    "# occupancy rate\n",
    "df_data['occupancy_rate'] = df_data.sold_beds / df_data.available_beds"
   ]
  },
  {
   "cell_type": "code",
   "execution_count": 15,
   "metadata": {},
   "outputs": [],
   "source": [
    "# re-order the columns to their appropriate index\n",
    "df_data = df_data[['date', 'selina', 'sub_category', 'capacity', 'out_of_order', 'available_beds',\n",
    "                   'sold_beds', 'occupancy_rate', 'room_revenue_usd','food_and_beverage_revenue',\n",
    "                   'activities_revenue', 'co_working_revenue', 'total_revenue', 'trevpob','average_guest_review']]"
   ]
  },
  {
   "cell_type": "markdown",
   "metadata": {},
   "source": [
    "#### Test:"
   ]
  },
  {
   "cell_type": "code",
   "execution_count": 16,
   "metadata": {
    "scrolled": true
   },
   "outputs": [
    {
     "data": {
      "text/html": [
       "<div>\n",
       "<style scoped>\n",
       "    .dataframe tbody tr th:only-of-type {\n",
       "        vertical-align: middle;\n",
       "    }\n",
       "\n",
       "    .dataframe tbody tr th {\n",
       "        vertical-align: top;\n",
       "    }\n",
       "\n",
       "    .dataframe thead th {\n",
       "        text-align: right;\n",
       "    }\n",
       "</style>\n",
       "<table border=\"1\" class=\"dataframe\">\n",
       "  <thead>\n",
       "    <tr style=\"text-align: right;\">\n",
       "      <th></th>\n",
       "      <th>date</th>\n",
       "      <th>selina</th>\n",
       "      <th>sub_category</th>\n",
       "      <th>capacity</th>\n",
       "      <th>out_of_order</th>\n",
       "      <th>available_beds</th>\n",
       "      <th>sold_beds</th>\n",
       "      <th>occupancy_rate</th>\n",
       "      <th>room_revenue_usd</th>\n",
       "      <th>food_and_beverage_revenue</th>\n",
       "      <th>activities_revenue</th>\n",
       "      <th>co_working_revenue</th>\n",
       "      <th>total_revenue</th>\n",
       "      <th>trevpob</th>\n",
       "      <th>average_guest_review</th>\n",
       "    </tr>\n",
       "  </thead>\n",
       "  <tbody>\n",
       "    <tr>\n",
       "      <th>0</th>\n",
       "      <td>2017-12-01</td>\n",
       "      <td>San Jose</td>\n",
       "      <td>Dorm</td>\n",
       "      <td>86</td>\n",
       "      <td>1</td>\n",
       "      <td>85</td>\n",
       "      <td>65</td>\n",
       "      <td>0.764706</td>\n",
       "      <td>1170.0</td>\n",
       "      <td>341.640</td>\n",
       "      <td>179.010</td>\n",
       "      <td>79.560</td>\n",
       "      <td>1770.210</td>\n",
       "      <td>27.234</td>\n",
       "      <td>8.755</td>\n",
       "    </tr>\n",
       "    <tr>\n",
       "      <th>1</th>\n",
       "      <td>2017-12-01</td>\n",
       "      <td>Medellin</td>\n",
       "      <td>Dorm</td>\n",
       "      <td>215</td>\n",
       "      <td>25</td>\n",
       "      <td>190</td>\n",
       "      <td>91</td>\n",
       "      <td>0.478947</td>\n",
       "      <td>1820.0</td>\n",
       "      <td>373.100</td>\n",
       "      <td>274.820</td>\n",
       "      <td>72.800</td>\n",
       "      <td>2540.720</td>\n",
       "      <td>27.920</td>\n",
       "      <td>8.787</td>\n",
       "    </tr>\n",
       "    <tr>\n",
       "      <th>2</th>\n",
       "      <td>2017-12-01</td>\n",
       "      <td>Jaco</td>\n",
       "      <td>Dorm</td>\n",
       "      <td>118</td>\n",
       "      <td>2</td>\n",
       "      <td>116</td>\n",
       "      <td>55</td>\n",
       "      <td>0.474138</td>\n",
       "      <td>880.0</td>\n",
       "      <td>289.520</td>\n",
       "      <td>100.320</td>\n",
       "      <td>23.760</td>\n",
       "      <td>1293.600</td>\n",
       "      <td>23.520</td>\n",
       "      <td>8.780</td>\n",
       "    </tr>\n",
       "    <tr>\n",
       "      <th>3</th>\n",
       "      <td>2017-12-01</td>\n",
       "      <td>Bocas del Toro</td>\n",
       "      <td>Dorm</td>\n",
       "      <td>154</td>\n",
       "      <td>2</td>\n",
       "      <td>152</td>\n",
       "      <td>108</td>\n",
       "      <td>0.710526</td>\n",
       "      <td>1728.0</td>\n",
       "      <td>618.624</td>\n",
       "      <td>390.528</td>\n",
       "      <td>164.160</td>\n",
       "      <td>2901.312</td>\n",
       "      <td>26.864</td>\n",
       "      <td>8.689</td>\n",
       "    </tr>\n",
       "    <tr>\n",
       "      <th>4</th>\n",
       "      <td>2017-12-01</td>\n",
       "      <td>Red Frog</td>\n",
       "      <td>Dorm</td>\n",
       "      <td>24</td>\n",
       "      <td>1</td>\n",
       "      <td>23</td>\n",
       "      <td>17</td>\n",
       "      <td>0.739130</td>\n",
       "      <td>255.0</td>\n",
       "      <td>91.545</td>\n",
       "      <td>44.880</td>\n",
       "      <td>20.655</td>\n",
       "      <td>412.080</td>\n",
       "      <td>24.240</td>\n",
       "      <td>8.754</td>\n",
       "    </tr>\n",
       "  </tbody>\n",
       "</table>\n",
       "</div>"
      ],
      "text/plain": [
       "        date          selina sub_category  capacity  out_of_order  \\\n",
       "0 2017-12-01        San Jose         Dorm        86             1   \n",
       "1 2017-12-01        Medellin         Dorm       215            25   \n",
       "2 2017-12-01            Jaco         Dorm       118             2   \n",
       "3 2017-12-01  Bocas del Toro         Dorm       154             2   \n",
       "4 2017-12-01        Red Frog         Dorm        24             1   \n",
       "\n",
       "   available_beds  sold_beds  occupancy_rate  room_revenue_usd  \\\n",
       "0              85         65        0.764706            1170.0   \n",
       "1             190         91        0.478947            1820.0   \n",
       "2             116         55        0.474138             880.0   \n",
       "3             152        108        0.710526            1728.0   \n",
       "4              23         17        0.739130             255.0   \n",
       "\n",
       "   food_and_beverage_revenue  activities_revenue  co_working_revenue  \\\n",
       "0                    341.640             179.010              79.560   \n",
       "1                    373.100             274.820              72.800   \n",
       "2                    289.520             100.320              23.760   \n",
       "3                    618.624             390.528             164.160   \n",
       "4                     91.545              44.880              20.655   \n",
       "\n",
       "   total_revenue  trevpob  average_guest_review  \n",
       "0       1770.210   27.234                 8.755  \n",
       "1       2540.720   27.920                 8.787  \n",
       "2       1293.600   23.520                 8.780  \n",
       "3       2901.312   26.864                 8.689  \n",
       "4        412.080   24.240                 8.754  "
      ]
     },
     "execution_count": 16,
     "metadata": {},
     "output_type": "execute_result"
    }
   ],
   "source": [
    "df_data.head()"
   ]
  },
  {
   "cell_type": "markdown",
   "metadata": {},
   "source": [
    "### Save Progress to .csv File"
   ]
  },
  {
   "cell_type": "code",
   "execution_count": 17,
   "metadata": {},
   "outputs": [],
   "source": [
    "df_data.to_csv('clean_datasets/data-clean-v1.csv', index=False)\n",
    "df_op_dates.to_csv('clean_datasets/opening-dates-clean-v1.csv', index=False)"
   ]
  },
  {
   "cell_type": "markdown",
   "metadata": {},
   "source": [
    "### Issue 4:\n",
    "\n",
    "#### Define:\n",
    "Left join the categorical columns from df_op_dates. Join on the selina name and bring over both columns from df_op_dates, country will remain as is and opening date will be converted into a month of year column.\n",
    "\n",
    "#### Code:"
   ]
  },
  {
   "cell_type": "code",
   "execution_count": 18,
   "metadata": {},
   "outputs": [],
   "source": [
    "df_data = df_data.merge(df_op_dates, on='selina', how='left')"
   ]
  },
  {
   "cell_type": "code",
   "execution_count": 19,
   "metadata": {},
   "outputs": [],
   "source": [
    "df_data = df_data[['date', 'selina', 'selina_country', 'selina_opening_date', 'sub_category',\n",
    "                   'capacity', 'out_of_order', 'available_beds', 'sold_beds', 'occupancy_rate',\n",
    "                   'room_revenue_usd', 'food_and_beverage_revenue', 'activities_revenue',\n",
    "                   'co_working_revenue', 'total_revenue', 'trevpob', 'average_guest_review']]"
   ]
  },
  {
   "cell_type": "markdown",
   "metadata": {},
   "source": [
    "#### Test:"
   ]
  },
  {
   "cell_type": "code",
   "execution_count": 20,
   "metadata": {
    "scrolled": true
   },
   "outputs": [
    {
     "data": {
      "text/html": [
       "<div>\n",
       "<style scoped>\n",
       "    .dataframe tbody tr th:only-of-type {\n",
       "        vertical-align: middle;\n",
       "    }\n",
       "\n",
       "    .dataframe tbody tr th {\n",
       "        vertical-align: top;\n",
       "    }\n",
       "\n",
       "    .dataframe thead th {\n",
       "        text-align: right;\n",
       "    }\n",
       "</style>\n",
       "<table border=\"1\" class=\"dataframe\">\n",
       "  <thead>\n",
       "    <tr style=\"text-align: right;\">\n",
       "      <th></th>\n",
       "      <th>date</th>\n",
       "      <th>selina</th>\n",
       "      <th>selina_country</th>\n",
       "      <th>selina_opening_date</th>\n",
       "      <th>sub_category</th>\n",
       "      <th>capacity</th>\n",
       "      <th>out_of_order</th>\n",
       "      <th>available_beds</th>\n",
       "      <th>sold_beds</th>\n",
       "      <th>occupancy_rate</th>\n",
       "      <th>room_revenue_usd</th>\n",
       "      <th>food_and_beverage_revenue</th>\n",
       "      <th>activities_revenue</th>\n",
       "      <th>co_working_revenue</th>\n",
       "      <th>total_revenue</th>\n",
       "      <th>trevpob</th>\n",
       "      <th>average_guest_review</th>\n",
       "    </tr>\n",
       "  </thead>\n",
       "  <tbody>\n",
       "    <tr>\n",
       "      <th>0</th>\n",
       "      <td>2017-12-01</td>\n",
       "      <td>San Jose</td>\n",
       "      <td>Costa Rica</td>\n",
       "      <td>2016-11-01</td>\n",
       "      <td>Dorm</td>\n",
       "      <td>86</td>\n",
       "      <td>1</td>\n",
       "      <td>85</td>\n",
       "      <td>65</td>\n",
       "      <td>0.764706</td>\n",
       "      <td>1170.0</td>\n",
       "      <td>341.640</td>\n",
       "      <td>179.010</td>\n",
       "      <td>79.560</td>\n",
       "      <td>1770.210</td>\n",
       "      <td>27.234</td>\n",
       "      <td>8.755</td>\n",
       "    </tr>\n",
       "    <tr>\n",
       "      <th>1</th>\n",
       "      <td>2017-12-01</td>\n",
       "      <td>Medellin</td>\n",
       "      <td>Colombia</td>\n",
       "      <td>2017-06-01</td>\n",
       "      <td>Dorm</td>\n",
       "      <td>215</td>\n",
       "      <td>25</td>\n",
       "      <td>190</td>\n",
       "      <td>91</td>\n",
       "      <td>0.478947</td>\n",
       "      <td>1820.0</td>\n",
       "      <td>373.100</td>\n",
       "      <td>274.820</td>\n",
       "      <td>72.800</td>\n",
       "      <td>2540.720</td>\n",
       "      <td>27.920</td>\n",
       "      <td>8.787</td>\n",
       "    </tr>\n",
       "    <tr>\n",
       "      <th>2</th>\n",
       "      <td>2017-12-01</td>\n",
       "      <td>Jaco</td>\n",
       "      <td>Costa Rica</td>\n",
       "      <td>2017-06-01</td>\n",
       "      <td>Dorm</td>\n",
       "      <td>118</td>\n",
       "      <td>2</td>\n",
       "      <td>116</td>\n",
       "      <td>55</td>\n",
       "      <td>0.474138</td>\n",
       "      <td>880.0</td>\n",
       "      <td>289.520</td>\n",
       "      <td>100.320</td>\n",
       "      <td>23.760</td>\n",
       "      <td>1293.600</td>\n",
       "      <td>23.520</td>\n",
       "      <td>8.780</td>\n",
       "    </tr>\n",
       "    <tr>\n",
       "      <th>3</th>\n",
       "      <td>2017-12-01</td>\n",
       "      <td>Bocas del Toro</td>\n",
       "      <td>Panama</td>\n",
       "      <td>2014-12-01</td>\n",
       "      <td>Dorm</td>\n",
       "      <td>154</td>\n",
       "      <td>2</td>\n",
       "      <td>152</td>\n",
       "      <td>108</td>\n",
       "      <td>0.710526</td>\n",
       "      <td>1728.0</td>\n",
       "      <td>618.624</td>\n",
       "      <td>390.528</td>\n",
       "      <td>164.160</td>\n",
       "      <td>2901.312</td>\n",
       "      <td>26.864</td>\n",
       "      <td>8.689</td>\n",
       "    </tr>\n",
       "    <tr>\n",
       "      <th>4</th>\n",
       "      <td>2017-12-01</td>\n",
       "      <td>Red Frog</td>\n",
       "      <td>Panama</td>\n",
       "      <td>2016-11-01</td>\n",
       "      <td>Dorm</td>\n",
       "      <td>24</td>\n",
       "      <td>1</td>\n",
       "      <td>23</td>\n",
       "      <td>17</td>\n",
       "      <td>0.739130</td>\n",
       "      <td>255.0</td>\n",
       "      <td>91.545</td>\n",
       "      <td>44.880</td>\n",
       "      <td>20.655</td>\n",
       "      <td>412.080</td>\n",
       "      <td>24.240</td>\n",
       "      <td>8.754</td>\n",
       "    </tr>\n",
       "  </tbody>\n",
       "</table>\n",
       "</div>"
      ],
      "text/plain": [
       "        date          selina selina_country selina_opening_date sub_category  \\\n",
       "0 2017-12-01        San Jose     Costa Rica          2016-11-01         Dorm   \n",
       "1 2017-12-01        Medellin       Colombia          2017-06-01         Dorm   \n",
       "2 2017-12-01            Jaco     Costa Rica          2017-06-01         Dorm   \n",
       "3 2017-12-01  Bocas del Toro         Panama          2014-12-01         Dorm   \n",
       "4 2017-12-01        Red Frog         Panama          2016-11-01         Dorm   \n",
       "\n",
       "   capacity  out_of_order  available_beds  sold_beds  occupancy_rate  \\\n",
       "0        86             1              85         65        0.764706   \n",
       "1       215            25             190         91        0.478947   \n",
       "2       118             2             116         55        0.474138   \n",
       "3       154             2             152        108        0.710526   \n",
       "4        24             1              23         17        0.739130   \n",
       "\n",
       "   room_revenue_usd  food_and_beverage_revenue  activities_revenue  \\\n",
       "0            1170.0                    341.640             179.010   \n",
       "1            1820.0                    373.100             274.820   \n",
       "2             880.0                    289.520             100.320   \n",
       "3            1728.0                    618.624             390.528   \n",
       "4             255.0                     91.545              44.880   \n",
       "\n",
       "   co_working_revenue  total_revenue  trevpob  average_guest_review  \n",
       "0              79.560       1770.210   27.234                 8.755  \n",
       "1              72.800       2540.720   27.920                 8.787  \n",
       "2              23.760       1293.600   23.520                 8.780  \n",
       "3             164.160       2901.312   26.864                 8.689  \n",
       "4              20.655        412.080   24.240                 8.754  "
      ]
     },
     "execution_count": 20,
     "metadata": {},
     "output_type": "execute_result"
    }
   ],
   "source": [
    "df_data.head()"
   ]
  },
  {
   "cell_type": "markdown",
   "metadata": {},
   "source": [
    "#### Code:"
   ]
  },
  {
   "cell_type": "code",
   "execution_count": 21,
   "metadata": {},
   "outputs": [],
   "source": [
    "# create month_of_opening and year_of_opening columns using opening_date column\n",
    "df_data['month_of_opening'] = df_data['selina_opening_date'].dt.month"
   ]
  },
  {
   "cell_type": "code",
   "execution_count": 22,
   "metadata": {},
   "outputs": [],
   "source": [
    "# re-order columns\n",
    "df_data = df_data[['date', 'selina', 'selina_country', 'selina_opening_date', 'month_of_opening',\n",
    "                   'sub_category', 'capacity', 'out_of_order', 'available_beds', 'sold_beds',\n",
    "                   'occupancy_rate', 'room_revenue_usd', 'food_and_beverage_revenue', 'activities_revenue',\n",
    "                   'co_working_revenue', 'total_revenue', 'trevpob', 'average_guest_review']]"
   ]
  },
  {
   "cell_type": "markdown",
   "metadata": {},
   "source": [
    "#### Test:"
   ]
  },
  {
   "cell_type": "code",
   "execution_count": 23,
   "metadata": {
    "scrolled": true
   },
   "outputs": [
    {
     "data": {
      "text/html": [
       "<div>\n",
       "<style scoped>\n",
       "    .dataframe tbody tr th:only-of-type {\n",
       "        vertical-align: middle;\n",
       "    }\n",
       "\n",
       "    .dataframe tbody tr th {\n",
       "        vertical-align: top;\n",
       "    }\n",
       "\n",
       "    .dataframe thead th {\n",
       "        text-align: right;\n",
       "    }\n",
       "</style>\n",
       "<table border=\"1\" class=\"dataframe\">\n",
       "  <thead>\n",
       "    <tr style=\"text-align: right;\">\n",
       "      <th></th>\n",
       "      <th>date</th>\n",
       "      <th>selina</th>\n",
       "      <th>selina_country</th>\n",
       "      <th>selina_opening_date</th>\n",
       "      <th>month_of_opening</th>\n",
       "      <th>sub_category</th>\n",
       "      <th>capacity</th>\n",
       "      <th>out_of_order</th>\n",
       "      <th>available_beds</th>\n",
       "      <th>sold_beds</th>\n",
       "      <th>occupancy_rate</th>\n",
       "      <th>room_revenue_usd</th>\n",
       "      <th>food_and_beverage_revenue</th>\n",
       "      <th>activities_revenue</th>\n",
       "      <th>co_working_revenue</th>\n",
       "      <th>total_revenue</th>\n",
       "      <th>trevpob</th>\n",
       "      <th>average_guest_review</th>\n",
       "    </tr>\n",
       "  </thead>\n",
       "  <tbody>\n",
       "    <tr>\n",
       "      <th>0</th>\n",
       "      <td>2017-12-01</td>\n",
       "      <td>San Jose</td>\n",
       "      <td>Costa Rica</td>\n",
       "      <td>2016-11-01</td>\n",
       "      <td>11</td>\n",
       "      <td>Dorm</td>\n",
       "      <td>86</td>\n",
       "      <td>1</td>\n",
       "      <td>85</td>\n",
       "      <td>65</td>\n",
       "      <td>0.764706</td>\n",
       "      <td>1170.0</td>\n",
       "      <td>341.640</td>\n",
       "      <td>179.010</td>\n",
       "      <td>79.560</td>\n",
       "      <td>1770.210</td>\n",
       "      <td>27.234</td>\n",
       "      <td>8.755</td>\n",
       "    </tr>\n",
       "    <tr>\n",
       "      <th>1</th>\n",
       "      <td>2017-12-01</td>\n",
       "      <td>Medellin</td>\n",
       "      <td>Colombia</td>\n",
       "      <td>2017-06-01</td>\n",
       "      <td>6</td>\n",
       "      <td>Dorm</td>\n",
       "      <td>215</td>\n",
       "      <td>25</td>\n",
       "      <td>190</td>\n",
       "      <td>91</td>\n",
       "      <td>0.478947</td>\n",
       "      <td>1820.0</td>\n",
       "      <td>373.100</td>\n",
       "      <td>274.820</td>\n",
       "      <td>72.800</td>\n",
       "      <td>2540.720</td>\n",
       "      <td>27.920</td>\n",
       "      <td>8.787</td>\n",
       "    </tr>\n",
       "    <tr>\n",
       "      <th>2</th>\n",
       "      <td>2017-12-01</td>\n",
       "      <td>Jaco</td>\n",
       "      <td>Costa Rica</td>\n",
       "      <td>2017-06-01</td>\n",
       "      <td>6</td>\n",
       "      <td>Dorm</td>\n",
       "      <td>118</td>\n",
       "      <td>2</td>\n",
       "      <td>116</td>\n",
       "      <td>55</td>\n",
       "      <td>0.474138</td>\n",
       "      <td>880.0</td>\n",
       "      <td>289.520</td>\n",
       "      <td>100.320</td>\n",
       "      <td>23.760</td>\n",
       "      <td>1293.600</td>\n",
       "      <td>23.520</td>\n",
       "      <td>8.780</td>\n",
       "    </tr>\n",
       "    <tr>\n",
       "      <th>3</th>\n",
       "      <td>2017-12-01</td>\n",
       "      <td>Bocas del Toro</td>\n",
       "      <td>Panama</td>\n",
       "      <td>2014-12-01</td>\n",
       "      <td>12</td>\n",
       "      <td>Dorm</td>\n",
       "      <td>154</td>\n",
       "      <td>2</td>\n",
       "      <td>152</td>\n",
       "      <td>108</td>\n",
       "      <td>0.710526</td>\n",
       "      <td>1728.0</td>\n",
       "      <td>618.624</td>\n",
       "      <td>390.528</td>\n",
       "      <td>164.160</td>\n",
       "      <td>2901.312</td>\n",
       "      <td>26.864</td>\n",
       "      <td>8.689</td>\n",
       "    </tr>\n",
       "    <tr>\n",
       "      <th>4</th>\n",
       "      <td>2017-12-01</td>\n",
       "      <td>Red Frog</td>\n",
       "      <td>Panama</td>\n",
       "      <td>2016-11-01</td>\n",
       "      <td>11</td>\n",
       "      <td>Dorm</td>\n",
       "      <td>24</td>\n",
       "      <td>1</td>\n",
       "      <td>23</td>\n",
       "      <td>17</td>\n",
       "      <td>0.739130</td>\n",
       "      <td>255.0</td>\n",
       "      <td>91.545</td>\n",
       "      <td>44.880</td>\n",
       "      <td>20.655</td>\n",
       "      <td>412.080</td>\n",
       "      <td>24.240</td>\n",
       "      <td>8.754</td>\n",
       "    </tr>\n",
       "  </tbody>\n",
       "</table>\n",
       "</div>"
      ],
      "text/plain": [
       "        date          selina selina_country selina_opening_date  \\\n",
       "0 2017-12-01        San Jose     Costa Rica          2016-11-01   \n",
       "1 2017-12-01        Medellin       Colombia          2017-06-01   \n",
       "2 2017-12-01            Jaco     Costa Rica          2017-06-01   \n",
       "3 2017-12-01  Bocas del Toro         Panama          2014-12-01   \n",
       "4 2017-12-01        Red Frog         Panama          2016-11-01   \n",
       "\n",
       "   month_of_opening sub_category  capacity  out_of_order  available_beds  \\\n",
       "0                11         Dorm        86             1              85   \n",
       "1                 6         Dorm       215            25             190   \n",
       "2                 6         Dorm       118             2             116   \n",
       "3                12         Dorm       154             2             152   \n",
       "4                11         Dorm        24             1              23   \n",
       "\n",
       "   sold_beds  occupancy_rate  room_revenue_usd  food_and_beverage_revenue  \\\n",
       "0         65        0.764706            1170.0                    341.640   \n",
       "1         91        0.478947            1820.0                    373.100   \n",
       "2         55        0.474138             880.0                    289.520   \n",
       "3        108        0.710526            1728.0                    618.624   \n",
       "4         17        0.739130             255.0                     91.545   \n",
       "\n",
       "   activities_revenue  co_working_revenue  total_revenue  trevpob  \\\n",
       "0             179.010              79.560       1770.210   27.234   \n",
       "1             274.820              72.800       2540.720   27.920   \n",
       "2             100.320              23.760       1293.600   23.520   \n",
       "3             390.528             164.160       2901.312   26.864   \n",
       "4              44.880              20.655        412.080   24.240   \n",
       "\n",
       "   average_guest_review  \n",
       "0                 8.755  \n",
       "1                 8.787  \n",
       "2                 8.780  \n",
       "3                 8.689  \n",
       "4                 8.754  "
      ]
     },
     "execution_count": 23,
     "metadata": {},
     "output_type": "execute_result"
    }
   ],
   "source": [
    "df_data.head()"
   ]
  },
  {
   "cell_type": "markdown",
   "metadata": {},
   "source": [
    "### Issue 5:\n",
    "\n",
    "#### Define:\n",
    "Convert categorical columns to the correct data type.\n",
    "\n",
    "#### Code:"
   ]
  },
  {
   "cell_type": "code",
   "execution_count": 24,
   "metadata": {},
   "outputs": [],
   "source": [
    "columns_to_convert_to_cat = ['selina', 'selina_country', 'month_of_opening']\n",
    "\n",
    "for column in columns_to_convert_to_cat:\n",
    "    df_data[column] = pd.Categorical(df_data[column])"
   ]
  },
  {
   "cell_type": "markdown",
   "metadata": {},
   "source": [
    "#### Test:"
   ]
  },
  {
   "cell_type": "code",
   "execution_count": 25,
   "metadata": {
    "scrolled": true
   },
   "outputs": [
    {
     "name": "stdout",
     "output_type": "stream",
     "text": [
      "<class 'pandas.core.frame.DataFrame'>\n",
      "Int64Index: 19077 entries, 0 to 19076\n",
      "Data columns (total 18 columns):\n",
      "date                         19077 non-null datetime64[ns]\n",
      "selina                       19077 non-null category\n",
      "selina_country               19077 non-null category\n",
      "selina_opening_date          19077 non-null datetime64[ns]\n",
      "month_of_opening             19077 non-null category\n",
      "sub_category                 19077 non-null object\n",
      "capacity                     19077 non-null int64\n",
      "out_of_order                 19077 non-null int64\n",
      "available_beds               19077 non-null int64\n",
      "sold_beds                    19077 non-null int64\n",
      "occupancy_rate               19077 non-null float64\n",
      "room_revenue_usd             19077 non-null float64\n",
      "food_and_beverage_revenue    19077 non-null float64\n",
      "activities_revenue           19077 non-null float64\n",
      "co_working_revenue           19077 non-null float64\n",
      "total_revenue                19077 non-null float64\n",
      "trevpob                      19077 non-null float64\n",
      "average_guest_review         19077 non-null float64\n",
      "dtypes: category(3), datetime64[ns](2), float64(8), int64(4), object(1)\n",
      "memory usage: 2.4+ MB\n"
     ]
    }
   ],
   "source": [
    "df_data.info()"
   ]
  },
  {
   "cell_type": "markdown",
   "metadata": {},
   "source": [
    "### Save Progress to .csv File"
   ]
  },
  {
   "cell_type": "code",
   "execution_count": 26,
   "metadata": {},
   "outputs": [],
   "source": [
    "df_data.to_csv('clean_datasets/data-clean-v2.csv', index=False)"
   ]
  },
  {
   "cell_type": "markdown",
   "metadata": {},
   "source": [
    "### Issue 6:\n",
    "\n",
    "#### Define:\n",
    "Create a performance index column in order to combine our 3 KPIs into a single peformance score. Since the number of KPIs is small, the performance score will provide an accurate representation of overall performance.\n",
    "\n",
    "The performance index will convert each KPI into a percentage score out of 100%\n",
    "- Occupancy rate is already a score out of 100%\n",
    "- TREVPOB does not have a maximum possible value (like occupancy rate does), so it will be given a percentage score relative to the values in the dataset. The score will be calculated by dividing the actual value in each row dividied by the maximum value observed in the dataset.\n",
    "- Average guest review is a rank out of 10, which could easily be converted into a percentage score out of 100%. However, in doing this all of our values will be scores ranging from 86.8% to 90.1%, which is too small a range to accurately represent the important distinction between a 9.0 rating (i.e. a 90% rating) and 8.0 rating when customers are booking our rooms. Therefore, this will converted into a new column classifying reviews as greater than or less than 9.0.\n",
    "\n",
    "#### Code:"
   ]
  },
  {
   "cell_type": "code",
   "execution_count": 27,
   "metadata": {},
   "outputs": [],
   "source": [
    "# create review score over 9.0 column\n",
    "df_data['review_over_9'] = df_data['average_guest_review'] >= 9"
   ]
  },
  {
   "cell_type": "markdown",
   "metadata": {},
   "source": [
    "#### Test:"
   ]
  },
  {
   "cell_type": "code",
   "execution_count": 28,
   "metadata": {
    "scrolled": true
   },
   "outputs": [
    {
     "name": "stdout",
     "output_type": "stream",
     "text": [
      "<class 'pandas.core.frame.DataFrame'>\n",
      "Int64Index: 19077 entries, 0 to 19076\n",
      "Data columns (total 19 columns):\n",
      "date                         19077 non-null datetime64[ns]\n",
      "selina                       19077 non-null category\n",
      "selina_country               19077 non-null category\n",
      "selina_opening_date          19077 non-null datetime64[ns]\n",
      "month_of_opening             19077 non-null category\n",
      "sub_category                 19077 non-null object\n",
      "capacity                     19077 non-null int64\n",
      "out_of_order                 19077 non-null int64\n",
      "available_beds               19077 non-null int64\n",
      "sold_beds                    19077 non-null int64\n",
      "occupancy_rate               19077 non-null float64\n",
      "room_revenue_usd             19077 non-null float64\n",
      "food_and_beverage_revenue    19077 non-null float64\n",
      "activities_revenue           19077 non-null float64\n",
      "co_working_revenue           19077 non-null float64\n",
      "total_revenue                19077 non-null float64\n",
      "trevpob                      19077 non-null float64\n",
      "average_guest_review         19077 non-null float64\n",
      "review_over_9                19077 non-null bool\n",
      "dtypes: bool(1), category(3), datetime64[ns](2), float64(8), int64(4), object(1)\n",
      "memory usage: 2.4+ MB\n"
     ]
    }
   ],
   "source": [
    "df_data.info()"
   ]
  },
  {
   "cell_type": "markdown",
   "metadata": {},
   "source": [
    "#### Code:"
   ]
  },
  {
   "cell_type": "code",
   "execution_count": 29,
   "metadata": {},
   "outputs": [],
   "source": [
    "# create necessary calculations for performance index\n",
    "occupancy_rate_perfect_score = 1\n",
    "trevpob_perfect_score = df_data.trevpob.max()"
   ]
  },
  {
   "cell_type": "markdown",
   "metadata": {},
   "source": [
    "#### Test:"
   ]
  },
  {
   "cell_type": "code",
   "execution_count": 30,
   "metadata": {},
   "outputs": [
    {
     "name": "stdout",
     "output_type": "stream",
     "text": [
      "1 67.65473000000001\n"
     ]
    }
   ],
   "source": [
    "print(occupancy_rate_perfect_score, trevpob_perfect_score)"
   ]
  },
  {
   "cell_type": "markdown",
   "metadata": {},
   "source": [
    "#### Code:"
   ]
  },
  {
   "cell_type": "code",
   "execution_count": 31,
   "metadata": {},
   "outputs": [],
   "source": [
    "# calculate performance index\n",
    "aggregate_score = (df_data.occupancy_rate / occupancy_rate_perfect_score) + (df_data.trevpob / trevpob_perfect_score) + (df_data.review_over_9)\n",
    "\n",
    "performance_index = aggregate_score/3\n",
    "\n",
    "df_data['performance_index'] = performance_index"
   ]
  },
  {
   "cell_type": "markdown",
   "metadata": {},
   "source": [
    "#### Test:"
   ]
  },
  {
   "cell_type": "code",
   "execution_count": 32,
   "metadata": {
    "scrolled": true
   },
   "outputs": [
    {
     "data": {
      "text/html": [
       "<div>\n",
       "<style scoped>\n",
       "    .dataframe tbody tr th:only-of-type {\n",
       "        vertical-align: middle;\n",
       "    }\n",
       "\n",
       "    .dataframe tbody tr th {\n",
       "        vertical-align: top;\n",
       "    }\n",
       "\n",
       "    .dataframe thead th {\n",
       "        text-align: right;\n",
       "    }\n",
       "</style>\n",
       "<table border=\"1\" class=\"dataframe\">\n",
       "  <thead>\n",
       "    <tr style=\"text-align: right;\">\n",
       "      <th></th>\n",
       "      <th>date</th>\n",
       "      <th>selina</th>\n",
       "      <th>selina_country</th>\n",
       "      <th>selina_opening_date</th>\n",
       "      <th>month_of_opening</th>\n",
       "      <th>sub_category</th>\n",
       "      <th>capacity</th>\n",
       "      <th>out_of_order</th>\n",
       "      <th>available_beds</th>\n",
       "      <th>sold_beds</th>\n",
       "      <th>occupancy_rate</th>\n",
       "      <th>room_revenue_usd</th>\n",
       "      <th>food_and_beverage_revenue</th>\n",
       "      <th>activities_revenue</th>\n",
       "      <th>co_working_revenue</th>\n",
       "      <th>total_revenue</th>\n",
       "      <th>trevpob</th>\n",
       "      <th>average_guest_review</th>\n",
       "      <th>review_over_9</th>\n",
       "      <th>performance_index</th>\n",
       "    </tr>\n",
       "  </thead>\n",
       "  <tbody>\n",
       "    <tr>\n",
       "      <th>0</th>\n",
       "      <td>2017-12-01</td>\n",
       "      <td>San Jose</td>\n",
       "      <td>Costa Rica</td>\n",
       "      <td>2016-11-01</td>\n",
       "      <td>11</td>\n",
       "      <td>Dorm</td>\n",
       "      <td>86</td>\n",
       "      <td>1</td>\n",
       "      <td>85</td>\n",
       "      <td>65</td>\n",
       "      <td>0.764706</td>\n",
       "      <td>1170.0</td>\n",
       "      <td>341.640</td>\n",
       "      <td>179.010</td>\n",
       "      <td>79.560</td>\n",
       "      <td>1770.210</td>\n",
       "      <td>27.234</td>\n",
       "      <td>8.755</td>\n",
       "      <td>False</td>\n",
       "      <td>0.389083</td>\n",
       "    </tr>\n",
       "    <tr>\n",
       "      <th>1</th>\n",
       "      <td>2017-12-01</td>\n",
       "      <td>Medellin</td>\n",
       "      <td>Colombia</td>\n",
       "      <td>2017-06-01</td>\n",
       "      <td>6</td>\n",
       "      <td>Dorm</td>\n",
       "      <td>215</td>\n",
       "      <td>25</td>\n",
       "      <td>190</td>\n",
       "      <td>91</td>\n",
       "      <td>0.478947</td>\n",
       "      <td>1820.0</td>\n",
       "      <td>373.100</td>\n",
       "      <td>274.820</td>\n",
       "      <td>72.800</td>\n",
       "      <td>2540.720</td>\n",
       "      <td>27.920</td>\n",
       "      <td>8.787</td>\n",
       "      <td>False</td>\n",
       "      <td>0.297210</td>\n",
       "    </tr>\n",
       "    <tr>\n",
       "      <th>2</th>\n",
       "      <td>2017-12-01</td>\n",
       "      <td>Jaco</td>\n",
       "      <td>Costa Rica</td>\n",
       "      <td>2017-06-01</td>\n",
       "      <td>6</td>\n",
       "      <td>Dorm</td>\n",
       "      <td>118</td>\n",
       "      <td>2</td>\n",
       "      <td>116</td>\n",
       "      <td>55</td>\n",
       "      <td>0.474138</td>\n",
       "      <td>880.0</td>\n",
       "      <td>289.520</td>\n",
       "      <td>100.320</td>\n",
       "      <td>23.760</td>\n",
       "      <td>1293.600</td>\n",
       "      <td>23.520</td>\n",
       "      <td>8.780</td>\n",
       "      <td>False</td>\n",
       "      <td>0.273928</td>\n",
       "    </tr>\n",
       "    <tr>\n",
       "      <th>3</th>\n",
       "      <td>2017-12-01</td>\n",
       "      <td>Bocas del Toro</td>\n",
       "      <td>Panama</td>\n",
       "      <td>2014-12-01</td>\n",
       "      <td>12</td>\n",
       "      <td>Dorm</td>\n",
       "      <td>154</td>\n",
       "      <td>2</td>\n",
       "      <td>152</td>\n",
       "      <td>108</td>\n",
       "      <td>0.710526</td>\n",
       "      <td>1728.0</td>\n",
       "      <td>618.624</td>\n",
       "      <td>390.528</td>\n",
       "      <td>164.160</td>\n",
       "      <td>2901.312</td>\n",
       "      <td>26.864</td>\n",
       "      <td>8.689</td>\n",
       "      <td>False</td>\n",
       "      <td>0.369200</td>\n",
       "    </tr>\n",
       "    <tr>\n",
       "      <th>4</th>\n",
       "      <td>2017-12-01</td>\n",
       "      <td>Red Frog</td>\n",
       "      <td>Panama</td>\n",
       "      <td>2016-11-01</td>\n",
       "      <td>11</td>\n",
       "      <td>Dorm</td>\n",
       "      <td>24</td>\n",
       "      <td>1</td>\n",
       "      <td>23</td>\n",
       "      <td>17</td>\n",
       "      <td>0.739130</td>\n",
       "      <td>255.0</td>\n",
       "      <td>91.545</td>\n",
       "      <td>44.880</td>\n",
       "      <td>20.655</td>\n",
       "      <td>412.080</td>\n",
       "      <td>24.240</td>\n",
       "      <td>8.754</td>\n",
       "      <td>False</td>\n",
       "      <td>0.365807</td>\n",
       "    </tr>\n",
       "  </tbody>\n",
       "</table>\n",
       "</div>"
      ],
      "text/plain": [
       "        date          selina selina_country selina_opening_date  \\\n",
       "0 2017-12-01        San Jose     Costa Rica          2016-11-01   \n",
       "1 2017-12-01        Medellin       Colombia          2017-06-01   \n",
       "2 2017-12-01            Jaco     Costa Rica          2017-06-01   \n",
       "3 2017-12-01  Bocas del Toro         Panama          2014-12-01   \n",
       "4 2017-12-01        Red Frog         Panama          2016-11-01   \n",
       "\n",
       "  month_of_opening sub_category  capacity  out_of_order  available_beds  \\\n",
       "0               11         Dorm        86             1              85   \n",
       "1                6         Dorm       215            25             190   \n",
       "2                6         Dorm       118             2             116   \n",
       "3               12         Dorm       154             2             152   \n",
       "4               11         Dorm        24             1              23   \n",
       "\n",
       "   sold_beds  occupancy_rate  room_revenue_usd  food_and_beverage_revenue  \\\n",
       "0         65        0.764706            1170.0                    341.640   \n",
       "1         91        0.478947            1820.0                    373.100   \n",
       "2         55        0.474138             880.0                    289.520   \n",
       "3        108        0.710526            1728.0                    618.624   \n",
       "4         17        0.739130             255.0                     91.545   \n",
       "\n",
       "   activities_revenue  co_working_revenue  total_revenue  trevpob  \\\n",
       "0             179.010              79.560       1770.210   27.234   \n",
       "1             274.820              72.800       2540.720   27.920   \n",
       "2             100.320              23.760       1293.600   23.520   \n",
       "3             390.528             164.160       2901.312   26.864   \n",
       "4              44.880              20.655        412.080   24.240   \n",
       "\n",
       "   average_guest_review  review_over_9  performance_index  \n",
       "0                 8.755          False           0.389083  \n",
       "1                 8.787          False           0.297210  \n",
       "2                 8.780          False           0.273928  \n",
       "3                 8.689          False           0.369200  \n",
       "4                 8.754          False           0.365807  "
      ]
     },
     "execution_count": 32,
     "metadata": {},
     "output_type": "execute_result"
    }
   ],
   "source": [
    "df_data.head()"
   ]
  }
 ],
 "metadata": {
  "kernelspec": {
   "display_name": "Python 3",
   "language": "python",
   "name": "python3"
  },
  "language_info": {
   "codemirror_mode": {
    "name": "ipython",
    "version": 3
   },
   "file_extension": ".py",
   "mimetype": "text/x-python",
   "name": "python",
   "nbconvert_exporter": "python",
   "pygments_lexer": "ipython3",
   "version": "3.7.1"
  }
 },
 "nbformat": 4,
 "nbformat_minor": 2
}
