{
 "cells": [
  {
   "cell_type": "markdown",
   "metadata": {},
   "source": [
    "## Import Requirements and Master Dataset"
   ]
  },
  {
   "cell_type": "code",
   "execution_count": 1,
   "metadata": {},
   "outputs": [],
   "source": [
    "# requirements\n",
    "import numpy as np\n",
    "import pandas as pd\n",
    "import os\n",
    "from pandas_profiling import ProfileReport\n",
    "import matplotlib.pyplot as plt\n",
    "%matplotlib inline\n",
    "import seaborn as sns"
   ]
  },
  {
   "cell_type": "code",
   "execution_count": 2,
   "metadata": {
    "scrolled": true
   },
   "outputs": [
    {
     "data": {
      "text/plain": [
       "['.DS_Store',\n",
       " 'opening-dates-clean-v1.csv',\n",
       " 'data-clean-v2.csv',\n",
       " 'data-clean-v1.csv']"
      ]
     },
     "execution_count": 2,
     "metadata": {},
     "output_type": "execute_result"
    }
   ],
   "source": [
    "# double check master dataset file name\n",
    "os.listdir('clean_datasets/')"
   ]
  },
  {
   "cell_type": "code",
   "execution_count": 3,
   "metadata": {
    "scrolled": true
   },
   "outputs": [
    {
     "data": {
      "text/html": [
       "<div>\n",
       "<style scoped>\n",
       "    .dataframe tbody tr th:only-of-type {\n",
       "        vertical-align: middle;\n",
       "    }\n",
       "\n",
       "    .dataframe tbody tr th {\n",
       "        vertical-align: top;\n",
       "    }\n",
       "\n",
       "    .dataframe thead th {\n",
       "        text-align: right;\n",
       "    }\n",
       "</style>\n",
       "<table border=\"1\" class=\"dataframe\">\n",
       "  <thead>\n",
       "    <tr style=\"text-align: right;\">\n",
       "      <th></th>\n",
       "      <th>date</th>\n",
       "      <th>selina</th>\n",
       "      <th>selina_country</th>\n",
       "      <th>selina_opening_date</th>\n",
       "      <th>month_of_opening</th>\n",
       "      <th>year_of_opening</th>\n",
       "      <th>sub_category</th>\n",
       "      <th>capacity</th>\n",
       "      <th>out_of_order</th>\n",
       "      <th>available_beds</th>\n",
       "      <th>sold_beds</th>\n",
       "      <th>occupancy_rate</th>\n",
       "      <th>room_revenue_usd</th>\n",
       "      <th>food_and_beverage_revenue</th>\n",
       "      <th>activities_revenue</th>\n",
       "      <th>co_working_revenue</th>\n",
       "      <th>total_revenue</th>\n",
       "      <th>trevpob</th>\n",
       "      <th>average_guest_review</th>\n",
       "    </tr>\n",
       "  </thead>\n",
       "  <tbody>\n",
       "    <tr>\n",
       "      <th>0</th>\n",
       "      <td>2017-12-01</td>\n",
       "      <td>San Jose</td>\n",
       "      <td>Costa Rica</td>\n",
       "      <td>2016-11-01</td>\n",
       "      <td>11</td>\n",
       "      <td>2016</td>\n",
       "      <td>Dorm</td>\n",
       "      <td>86</td>\n",
       "      <td>1</td>\n",
       "      <td>85</td>\n",
       "      <td>65</td>\n",
       "      <td>0.764706</td>\n",
       "      <td>1170.0</td>\n",
       "      <td>341.640</td>\n",
       "      <td>179.010</td>\n",
       "      <td>79.560</td>\n",
       "      <td>1770.210</td>\n",
       "      <td>27.234</td>\n",
       "      <td>8.755</td>\n",
       "    </tr>\n",
       "    <tr>\n",
       "      <th>1</th>\n",
       "      <td>2017-12-01</td>\n",
       "      <td>Medellin</td>\n",
       "      <td>Colombia</td>\n",
       "      <td>2017-06-01</td>\n",
       "      <td>6</td>\n",
       "      <td>2017</td>\n",
       "      <td>Dorm</td>\n",
       "      <td>215</td>\n",
       "      <td>25</td>\n",
       "      <td>190</td>\n",
       "      <td>91</td>\n",
       "      <td>0.478947</td>\n",
       "      <td>1820.0</td>\n",
       "      <td>373.100</td>\n",
       "      <td>274.820</td>\n",
       "      <td>72.800</td>\n",
       "      <td>2540.720</td>\n",
       "      <td>27.920</td>\n",
       "      <td>8.787</td>\n",
       "    </tr>\n",
       "    <tr>\n",
       "      <th>2</th>\n",
       "      <td>2017-12-01</td>\n",
       "      <td>Jaco</td>\n",
       "      <td>Costa Rica</td>\n",
       "      <td>2017-06-01</td>\n",
       "      <td>6</td>\n",
       "      <td>2017</td>\n",
       "      <td>Dorm</td>\n",
       "      <td>118</td>\n",
       "      <td>2</td>\n",
       "      <td>116</td>\n",
       "      <td>55</td>\n",
       "      <td>0.474138</td>\n",
       "      <td>880.0</td>\n",
       "      <td>289.520</td>\n",
       "      <td>100.320</td>\n",
       "      <td>23.760</td>\n",
       "      <td>1293.600</td>\n",
       "      <td>23.520</td>\n",
       "      <td>8.780</td>\n",
       "    </tr>\n",
       "    <tr>\n",
       "      <th>3</th>\n",
       "      <td>2017-12-01</td>\n",
       "      <td>Bocas del Toro</td>\n",
       "      <td>Panama</td>\n",
       "      <td>2014-12-01</td>\n",
       "      <td>12</td>\n",
       "      <td>2014</td>\n",
       "      <td>Dorm</td>\n",
       "      <td>154</td>\n",
       "      <td>2</td>\n",
       "      <td>152</td>\n",
       "      <td>108</td>\n",
       "      <td>0.710526</td>\n",
       "      <td>1728.0</td>\n",
       "      <td>618.624</td>\n",
       "      <td>390.528</td>\n",
       "      <td>164.160</td>\n",
       "      <td>2901.312</td>\n",
       "      <td>26.864</td>\n",
       "      <td>8.689</td>\n",
       "    </tr>\n",
       "    <tr>\n",
       "      <th>4</th>\n",
       "      <td>2017-12-01</td>\n",
       "      <td>Red Frog</td>\n",
       "      <td>Panama</td>\n",
       "      <td>2016-11-01</td>\n",
       "      <td>11</td>\n",
       "      <td>2016</td>\n",
       "      <td>Dorm</td>\n",
       "      <td>24</td>\n",
       "      <td>1</td>\n",
       "      <td>23</td>\n",
       "      <td>17</td>\n",
       "      <td>0.739130</td>\n",
       "      <td>255.0</td>\n",
       "      <td>91.545</td>\n",
       "      <td>44.880</td>\n",
       "      <td>20.655</td>\n",
       "      <td>412.080</td>\n",
       "      <td>24.240</td>\n",
       "      <td>8.754</td>\n",
       "    </tr>\n",
       "  </tbody>\n",
       "</table>\n",
       "</div>"
      ],
      "text/plain": [
       "         date          selina selina_country selina_opening_date  \\\n",
       "0  2017-12-01        San Jose     Costa Rica          2016-11-01   \n",
       "1  2017-12-01        Medellin       Colombia          2017-06-01   \n",
       "2  2017-12-01            Jaco     Costa Rica          2017-06-01   \n",
       "3  2017-12-01  Bocas del Toro         Panama          2014-12-01   \n",
       "4  2017-12-01        Red Frog         Panama          2016-11-01   \n",
       "\n",
       "   month_of_opening  year_of_opening sub_category  capacity  out_of_order  \\\n",
       "0                11             2016         Dorm        86             1   \n",
       "1                 6             2017         Dorm       215            25   \n",
       "2                 6             2017         Dorm       118             2   \n",
       "3                12             2014         Dorm       154             2   \n",
       "4                11             2016         Dorm        24             1   \n",
       "\n",
       "   available_beds  sold_beds  occupancy_rate  room_revenue_usd  \\\n",
       "0              85         65        0.764706            1170.0   \n",
       "1             190         91        0.478947            1820.0   \n",
       "2             116         55        0.474138             880.0   \n",
       "3             152        108        0.710526            1728.0   \n",
       "4              23         17        0.739130             255.0   \n",
       "\n",
       "   food_and_beverage_revenue  activities_revenue  co_working_revenue  \\\n",
       "0                    341.640             179.010              79.560   \n",
       "1                    373.100             274.820              72.800   \n",
       "2                    289.520             100.320              23.760   \n",
       "3                    618.624             390.528             164.160   \n",
       "4                     91.545              44.880              20.655   \n",
       "\n",
       "   total_revenue  trevpob  average_guest_review  \n",
       "0       1770.210   27.234                 8.755  \n",
       "1       2540.720   27.920                 8.787  \n",
       "2       1293.600   23.520                 8.780  \n",
       "3       2901.312   26.864                 8.689  \n",
       "4        412.080   24.240                 8.754  "
      ]
     },
     "execution_count": 3,
     "metadata": {},
     "output_type": "execute_result"
    }
   ],
   "source": [
    "# dataset 1\n",
    "df = pd.read_csv('clean_datasets/data-clean-v2.csv')\n",
    "df.head()"
   ]
  },
  {
   "cell_type": "markdown",
   "metadata": {},
   "source": [
    "### Re-Convert Dtypes Lost in .csv Files:\n",
    "\n",
    "#### Code:"
   ]
  },
  {
   "cell_type": "code",
   "execution_count": 4,
   "metadata": {},
   "outputs": [],
   "source": [
    "# datetime\n",
    "df.date = pd.to_datetime(df.date)\n",
    "\n",
    "# categorical\n",
    "columns_to_convert_to_cat = ['selina', 'selina_country', 'month_of_opening', 'year_of_opening']\n",
    "\n",
    "for column in columns_to_convert_to_cat:\n",
    "    df[column] = pd.Categorical(df[column])"
   ]
  },
  {
   "cell_type": "markdown",
   "metadata": {},
   "source": [
    "#### Test:"
   ]
  },
  {
   "cell_type": "code",
   "execution_count": 5,
   "metadata": {},
   "outputs": [
    {
     "name": "stdout",
     "output_type": "stream",
     "text": [
      "<class 'pandas.core.frame.DataFrame'>\n",
      "RangeIndex: 19077 entries, 0 to 19076\n",
      "Data columns (total 19 columns):\n",
      "date                         19077 non-null datetime64[ns]\n",
      "selina                       19077 non-null category\n",
      "selina_country               19077 non-null category\n",
      "selina_opening_date          19077 non-null object\n",
      "month_of_opening             19077 non-null category\n",
      "year_of_opening              19077 non-null category\n",
      "sub_category                 19077 non-null object\n",
      "capacity                     19077 non-null int64\n",
      "out_of_order                 19077 non-null int64\n",
      "available_beds               19077 non-null int64\n",
      "sold_beds                    19077 non-null int64\n",
      "occupancy_rate               19077 non-null float64\n",
      "room_revenue_usd             19077 non-null float64\n",
      "food_and_beverage_revenue    19077 non-null float64\n",
      "activities_revenue           19077 non-null float64\n",
      "co_working_revenue           19077 non-null float64\n",
      "total_revenue                19077 non-null float64\n",
      "trevpob                      19077 non-null float64\n",
      "average_guest_review         19077 non-null float64\n",
      "dtypes: category(4), datetime64[ns](1), float64(8), int64(4), object(2)\n",
      "memory usage: 2.3+ MB\n"
     ]
    }
   ],
   "source": [
    "df.info()"
   ]
  }
 ],
 "metadata": {
  "kernelspec": {
   "display_name": "Python 3",
   "language": "python",
   "name": "python3"
  },
  "language_info": {
   "codemirror_mode": {
    "name": "ipython",
    "version": 3
   },
   "file_extension": ".py",
   "mimetype": "text/x-python",
   "name": "python",
   "nbconvert_exporter": "python",
   "pygments_lexer": "ipython3",
   "version": "3.7.1"
  }
 },
 "nbformat": 4,
 "nbformat_minor": 2
}
